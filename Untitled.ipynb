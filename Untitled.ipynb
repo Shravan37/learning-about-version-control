{
 "cells": [
  {
   "cell_type": "markdown",
   "id": "5ba92b5c-f164-4b76-8d8a-44165e8af4d8",
   "metadata": {},
   "source": [
    "This is a Markdown cell"
   ]
  },
  {
   "cell_type": "code",
   "execution_count": 4,
   "id": "cf9743db-0637-48b2-b637-d8c8a0912c7c",
   "metadata": {},
   "outputs": [
    {
     "name": "stdout",
     "output_type": "stream",
     "text": [
      "[1] \"This is a code cell\"\n"
     ]
    }
   ],
   "source": [
    "print(\"This is a code cell\")"
   ]
  },
  {
   "cell_type": "code",
   "execution_count": null,
   "id": "9418bb07-a945-473e-bc16-0c5db55725d2",
   "metadata": {},
   "outputs": [],
   "source": []
  }
 ],
 "metadata": {
  "kernelspec": {
   "display_name": "R",
   "language": "R",
   "name": "ir"
  },
  "language_info": {
   "codemirror_mode": "r",
   "file_extension": ".r",
   "mimetype": "text/x-r-source",
   "name": "R",
   "pygments_lexer": "r",
   "version": "4.1.2"
  }
 },
 "nbformat": 4,
 "nbformat_minor": 5
}
